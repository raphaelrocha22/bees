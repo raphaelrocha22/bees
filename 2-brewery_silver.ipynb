{
 "cells": [
  {
   "cell_type": "markdown",
   "metadata": {
    "application/vnd.databricks.v1+cell": {
     "cellMetadata": {
      "byteLimit": 2048000,
      "rowLimit": 10000
     },
     "inputWidgets": {},
     "nuid": "1556adb2-bba6-46b7-9a2a-9b8cad6ebcf6",
     "showTitle": false,
     "tableResultSettingsMap": {},
     "title": ""
    }
   },
   "source": [
    "#### Importação de Pacotes"
   ]
  },
  {
   "cell_type": "code",
   "execution_count": 0,
   "metadata": {
    "application/vnd.databricks.v1+cell": {
     "cellMetadata": {
      "byteLimit": 2048000,
      "rowLimit": 10000
     },
     "inputWidgets": {},
     "nuid": "24d6780b-5489-4298-b2d2-d39327294c1d",
     "showTitle": false,
     "tableResultSettingsMap": {},
     "title": ""
    }
   },
   "outputs": [],
   "source": [
    "from pyspark.sql.functions import *"
   ]
  },
  {
   "cell_type": "markdown",
   "metadata": {
    "application/vnd.databricks.v1+cell": {
     "cellMetadata": {
      "byteLimit": 2048000,
      "rowLimit": 10000
     },
     "inputWidgets": {},
     "nuid": "1876e230-8059-407f-9edf-2e4771fa0354",
     "showTitle": false,
     "tableResultSettingsMap": {},
     "title": ""
    }
   },
   "source": [
    "#### Definição do Unity Catalog e Schema"
   ]
  },
  {
   "cell_type": "code",
   "execution_count": 0,
   "metadata": {
    "application/vnd.databricks.v1+cell": {
     "cellMetadata": {
      "byteLimit": 2048000,
      "implicitDf": true,
      "rowLimit": 10000
     },
     "inputWidgets": {},
     "nuid": "fd37dde6-2f29-4f64-9d79-343d7dedb201",
     "showTitle": false,
     "tableResultSettingsMap": {},
     "title": ""
    }
   },
   "outputs": [],
   "source": [
    "%sql\n",
    "USE CATALOG bees;\n",
    "USE SCHEMA brewery;"
   ]
  },
  {
   "cell_type": "code",
   "execution_count": 0,
   "metadata": {
    "application/vnd.databricks.v1+cell": {
     "cellMetadata": {
      "byteLimit": 2048000,
      "implicitDf": true,
      "rowLimit": 10000
     },
     "inputWidgets": {},
     "nuid": "9f4e91d6-d5bc-46e8-87d3-5c1f7a8f1360",
     "showTitle": false,
     "tableResultSettingsMap": {},
     "title": ""
    }
   },
   "outputs": [],
   "source": [
    "%sql\n",
    "CREATE TABLE IF NOT EXISTS brewery_silver(\n",
    "  id STRING,\n",
    "  name STRING,\n",
    "  brewery_type STRING,\n",
    "  address_1 STRING,\n",
    "  address_2 STRING,\n",
    "  address_3 STRING,\n",
    "  city STRING,\n",
    "  state_province STRING,\n",
    "  postal_code STRING,\n",
    "  country STRING,\n",
    "  longitude DOUBLE,\n",
    "  latitude DOUBLE,\n",
    "  phone STRING,\n",
    "  website_url STRING,\n",
    "  state STRING\n",
    ")\n",
    "PARTITIONED BY (country)\n",
    "COMMENT 'Tabela Silver dos dados de cervejarias consumidos da brewery_bronze.\n",
    "Particionada por Country'"
   ]
  },
  {
   "cell_type": "markdown",
   "metadata": {
    "application/vnd.databricks.v1+cell": {
     "cellMetadata": {
      "byteLimit": 2048000,
      "rowLimit": 10000
     },
     "inputWidgets": {},
     "nuid": "f34dcbe0-2829-47dc-8874-654acd02f3ac",
     "showTitle": false,
     "tableResultSettingsMap": {},
     "title": ""
    }
   },
   "source": [
    "#### Importação da tabela Bronze"
   ]
  },
  {
   "cell_type": "code",
   "execution_count": 0,
   "metadata": {
    "application/vnd.databricks.v1+cell": {
     "cellMetadata": {
      "byteLimit": 2048000,
      "rowLimit": 10000
     },
     "inputWidgets": {},
     "nuid": "a95a4df6-5be1-497b-996a-876c648f7cd4",
     "showTitle": false,
     "tableResultSettingsMap": {},
     "title": ""
    }
   },
   "outputs": [],
   "source": [
    "df_bronze = spark.read.table('brewery_bronze')"
   ]
  },
  {
   "cell_type": "markdown",
   "metadata": {
    "application/vnd.databricks.v1+cell": {
     "cellMetadata": {
      "byteLimit": 2048000,
      "rowLimit": 10000
     },
     "inputWidgets": {},
     "nuid": "2c642463-c2f3-4d95-9c57-a27b00663ebf",
     "showTitle": false,
     "tableResultSettingsMap": {},
     "title": ""
    }
   },
   "source": [
    "#### Transformação de Dados  \n",
    "Ações Realizadas:\n",
    "* Identificado que alguns registros da coluna \"name\" possuem problemas de Encoding.  \n",
    "Realizado tratamento através da função UDF fix_encode\n",
    "\n",
    "* Identificado que coluna \"address_1\" e \"street\" possuem os mesmos dados.  \n",
    "Antes de deletar a coluna \"street\", ela foi aplicada em um coalesce com \"address_1\",  \n",
    "para prevenir casos futuros de preenchimento apenas na coluna \"street\""
   ]
  },
  {
   "cell_type": "code",
   "execution_count": 0,
   "metadata": {
    "application/vnd.databricks.v1+cell": {
     "cellMetadata": {
      "byteLimit": 2048000,
      "rowLimit": 10000
     },
     "inputWidgets": {},
     "nuid": "124c54f9-c750-4e7c-80df-1228a455b685",
     "showTitle": false,
     "tableResultSettingsMap": {},
     "title": ""
    }
   },
   "outputs": [],
   "source": [
    "@udf()\n",
    "def fix_encode(s):\n",
    "    \"Função UDF para solucionar problema de encode\"\n",
    "    try:\n",
    "        return s.encode('LATIN1').decode('UTF-8')\n",
    "    except:\n",
    "        return s"
   ]
  },
  {
   "cell_type": "code",
   "execution_count": 0,
   "metadata": {
    "application/vnd.databricks.v1+cell": {
     "cellMetadata": {
      "byteLimit": 2048000,
      "rowLimit": 10000
     },
     "inputWidgets": {},
     "nuid": "0e4d8e08-13b8-4a22-9816-de585e520bb9",
     "showTitle": false,
     "tableResultSettingsMap": {},
     "title": ""
    }
   },
   "outputs": [],
   "source": [
    "df_transform = (df_bronze.withColumn(\"name\", fix_encode(col('name')))\n",
    "                         .withColumn('address_1', coalesce('address_1', 'street'))\n",
    "                         .drop('street')\n",
    ")"
   ]
  },
  {
   "cell_type": "markdown",
   "metadata": {
    "application/vnd.databricks.v1+cell": {
     "cellMetadata": {
      "byteLimit": 2048000,
      "rowLimit": 10000
     },
     "inputWidgets": {},
     "nuid": "7209fc5c-fdc4-45d6-aedf-493d45d709c3",
     "showTitle": false,
     "tableResultSettingsMap": {},
     "title": ""
    }
   },
   "source": [
    "#### Data Quality  \n",
    "Aplicadas verificações de valores nulos nos campos da tabela.  \n",
    "* \"is_address_missing\" verifica valores nulos em endereços e código postal\n",
    "* \"is_location_missing\" verifica valores nulos nos campos de localização: Cidade, Estado, País\n",
    "* \"is_lat_long_missing\" verifica valores nulos nos campos de Latitude e Longitude\n",
    "* \"is_phone_missing\" verifica o preenchimento do campo de telefone\n",
    "* \"is_website_missing\" verifica o preenchimento do campo de url do website"
   ]
  },
  {
   "cell_type": "code",
   "execution_count": 0,
   "metadata": {
    "application/vnd.databricks.v1+cell": {
     "cellMetadata": {
      "byteLimit": 2048000,
      "rowLimit": 10000
     },
     "inputWidgets": {},
     "nuid": "ce617e7a-53e1-4dac-88f4-a3c9ace45cc3",
     "showTitle": false,
     "tableResultSettingsMap": {},
     "title": ""
    }
   },
   "outputs": [],
   "source": [
    "df_quality = (df_transform.withColumn('is_address_missing',\n",
    "                              (col('address_1').isNull() &\n",
    "                              col('address_2').isNull() &\n",
    "                              col('address_3').isNull()) |\n",
    "                              col('postal_code').isNull()\n",
    "                              )\n",
    "                  .withColumn('is_location_missing', \n",
    "                              col('city').isNull() |\n",
    "                              col('state_province').isNull() |\n",
    "                              col('country').isNull()\n",
    "                              )\n",
    "                  .withColumn('is_lat_long_missing',\n",
    "                              col('longitude').isNull() |\n",
    "                              col('latitude').isNull()\n",
    "                            )\n",
    "                  .withColumn('is_phone_missing',col('phone').isNull())\n",
    "                  .withColumn('is_website_missing',col('website_url').isNull())\n",
    "                  .withColumn('data_quality',\n",
    "                              struct(\n",
    "                                'is_address_missing',\n",
    "                                'is_location_missing',\n",
    "                                'is_lat_long_missing',\n",
    "                                'is_phone_missing',\n",
    "                                'is_website_missing'\n",
    "                              )\n",
    "                            )\n",
    "                  .drop('is_address_missing', 'is_location_missing',\n",
    "                        'is_lat_long_missing', 'is_phone_missing',\n",
    "                        'is_website_missing'\n",
    "                        )\n",
    ")"
   ]
  },
  {
   "cell_type": "markdown",
   "metadata": {
    "application/vnd.databricks.v1+cell": {
     "cellMetadata": {
      "byteLimit": 2048000,
      "rowLimit": 10000
     },
     "inputWidgets": {},
     "nuid": "0df0abbf-f14e-4f8a-89bb-372b4dff1f6a",
     "showTitle": false,
     "tableResultSettingsMap": {},
     "title": ""
    }
   },
   "source": [
    "#### Output tabela Silver"
   ]
  },
  {
   "cell_type": "code",
   "execution_count": 0,
   "metadata": {
    "application/vnd.databricks.v1+cell": {
     "cellMetadata": {
      "byteLimit": 2048000,
      "rowLimit": 10000
     },
     "inputWidgets": {},
     "nuid": "88cfa879-00bb-4c35-bd9f-2ee2b7314af5",
     "showTitle": false,
     "tableResultSettingsMap": {},
     "title": ""
    }
   },
   "outputs": [],
   "source": [
    "(df_quality.write.format(\"delta\")\n",
    "                 .mode(\"overwrite\")\n",
    "                 .option(\"mergeSchema\", True)\n",
    "                 .saveAsTable(\"brewery_silver\")\n",
    ")"
   ]
  },
  {
   "cell_type": "markdown",
   "metadata": {
    "application/vnd.databricks.v1+cell": {
     "cellMetadata": {
      "byteLimit": 2048000,
      "rowLimit": 10000
     },
     "inputWidgets": {},
     "nuid": "832d0b3f-0172-4488-a31f-f4e58ed69df3",
     "showTitle": false,
     "tableResultSettingsMap": {},
     "title": ""
    }
   },
   "source": [
    "#### Criação de View para acompanhar integridade dos Dados"
   ]
  },
  {
   "cell_type": "code",
   "execution_count": 0,
   "metadata": {
    "application/vnd.databricks.v1+cell": {
     "cellMetadata": {
      "byteLimit": 2048000,
      "implicitDf": true,
      "rowLimit": 10000
     },
     "inputWidgets": {},
     "nuid": "f8a65d77-efbc-4911-80a7-8ba2542655bb",
     "showTitle": false,
     "tableResultSettingsMap": {
      "0": {
       "dataGridStateBlob": "{\"version\":1,\"tableState\":{\"columnPinning\":{\"left\":[\"#row_number#\"],\"right\":[]},\"columnSizing\":{},\"columnVisibility\":{}},\"settings\":{\"columns\":{}},\"syncTimestamp\":1753084339936}",
       "filterBlob": null,
       "queryPlanFiltersBlob": null,
       "tableResultIndex": 0
      }
     },
     "title": ""
    }
   },
   "outputs": [],
   "source": [
    "%sql\n",
    "CREATE OR REPLACE VIEW vw_brewery_silver_quality\n",
    "COMMENT \"\n",
    "View para acompanhamento de data quality da tabela breweries_silver\n",
    "Coluna:\n",
    "-check_quality indica o tipo de check realizado\n",
    "-valor indica a quantidade de registros econtrados para o check realizado\n",
    "-percent_tabela indica a porcentagem de registros econtrados para o check realizado em relação ao total de linhas da tabela\"\n",
    "AS\n",
    "SELECT \n",
    "  check_quality,\n",
    "  sum(valor) count,\n",
    "  ROUND(100 * SUM(valor) / (SELECT count(1) FROM brewery_silver),1) percent_tabela\n",
    "FROM (\n",
    "  SELECT \n",
    "    stack(5,\n",
    "    'is_address_missing', cast(data_quality.is_address_missing as int),\n",
    "    'is_location_missing', cast(data_quality.is_location_missing as int),\n",
    "    'is_lat_long_missing', cast(data_quality.is_lat_long_missing as int),\n",
    "    'is_phone_missing', cast(data_quality.is_phone_missing as int),\n",
    "    'is_website_missing', cast(data_quality.is_website_missing as int)\n",
    "  ) AS (check_quality, valor)\n",
    "  FROM\n",
    "    brewery_silver\n",
    ")\n",
    "GROUP BY\n",
    "  check_quality\n",
    "ORDER BY \n",
    "  count DESC"
   ]
  }
 ],
 "metadata": {
  "application/vnd.databricks.v1+notebook": {
   "computePreferences": null,
   "dashboards": [],
   "environmentMetadata": {
    "base_environment": "",
    "environment_version": "2"
   },
   "inputWidgetPreferences": null,
   "language": "python",
   "notebookMetadata": {
    "mostRecentlyExecutedCommandWithImplicitDF": {
     "commandId": 1936898297195365,
     "dataframes": [
      "_sqldf"
     ]
    },
    "pythonIndentUnit": 4
   },
   "notebookName": "2-brewery_silver",
   "widgets": {}
  },
  "language_info": {
   "name": "python"
  }
 },
 "nbformat": 4,
 "nbformat_minor": 0
}
