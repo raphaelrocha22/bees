{
 "cells": [
  {
   "cell_type": "markdown",
   "metadata": {
    "application/vnd.databricks.v1+cell": {
     "cellMetadata": {},
     "inputWidgets": {},
     "nuid": "78d4b7d4-43d5-4a13-9853-9b54d6101416",
     "showTitle": false,
     "tableResultSettingsMap": {},
     "title": ""
    }
   },
   "source": [
    "####Orquestração\n",
    "-Utilizado o databricks workflow para execução dos notebooks (Bronze, Siver, Gold)  \n",
    "-Schedule: diariamente às 06 horas  \n",
    "-Notificação por email em caso de falha do pipeline  \n",
    "-Retries: 1x cada task delay 5 min\n",
    "\n",
    "![](./utils/Brewery_Pipe.png)"
   ]
  },
  {
   "cell_type": "markdown",
   "metadata": {
    "application/vnd.databricks.v1+cell": {
     "cellMetadata": {},
     "inputWidgets": {},
     "nuid": "f354855a-a9dd-4dc3-9584-1f7989d32782",
     "showTitle": false,
     "tableResultSettingsMap": {},
     "title": ""
    }
   },
   "source": [
    "##### YAML do Pipeline"
   ]
  },
  {
   "cell_type": "code",
   "execution_count": 0,
   "metadata": {
    "application/vnd.databricks.v1+cell": {
     "cellMetadata": {
      "byteLimit": 2048000,
      "rowLimit": 10000
     },
     "inputWidgets": {},
     "nuid": "bfb74923-0791-4300-b7ae-420293693c86",
     "showTitle": false,
     "tableResultSettingsMap": {},
     "title": ""
    },
    "jupyter": {
     "outputs_hidden": true
    }
   },
   "outputs": [],
   "source": [
    "\"\"\"\n",
    "resources:\n",
    "  jobs:\n",
    "    Brewery_Pipeline:\n",
    "      name: Brewery_Pipeline\n",
    "      description: |-\n",
    "        Pipeline de ingestão dos dados de origem da API openbrewerydb.org.\n",
    "        Ingestão nas camadas Bronze, Silver, Gold\n",
    "      email_notifications:\n",
    "        on_failure:\n",
    "          - raphael.2205@gmail.com\n",
    "      schedule:\n",
    "        quartz_cron_expression: 43 0 6 * * ?\n",
    "        timezone_id: America/Sao_Paulo\n",
    "        pause_status: UNPAUSED\n",
    "      \n",
    "      tasks:\n",
    "        - task_key: Bronze\n",
    "          notebook_task:\n",
    "            notebook_path: /Workspace/Users/raphael.2205@gmail.com/bees/1-brewery_bronze\n",
    "            source: WORKSPACE\n",
    "          max_retries: 1\n",
    "          min_retry_interval_millis: 300000\n",
    "          disable_auto_optimization: false\n",
    "          notification_settings:\n",
    "            alert_on_last_attempt: true\n",
    "        \n",
    "        - task_key: Silver\n",
    "          depends_on:\n",
    "            - task_key: Bronze\n",
    "          notebook_task:\n",
    "            notebook_path: /Workspace/Users/raphael.2205@gmail.com/bees/2-brewery_silver\n",
    "            source: WORKSPACE\n",
    "          max_retries: 1\n",
    "          min_retry_interval_millis: 300000\n",
    "          disable_auto_optimization: false\n",
    "        \n",
    "        - task_key: Gold\n",
    "          depends_on:\n",
    "            - task_key: Silver\n",
    "          notebook_task:\n",
    "            notebook_path: /Workspace/Users/raphael.2205@gmail.com/bees/3-brewery_gold\n",
    "            source: WORKSPACE\n",
    "          max_retries: 1\n",
    "          min_retry_interval_millis: 300000\n",
    "          disable_auto_optimization: false\n",
    "      \n",
    "      queue:\n",
    "        enabled: true\n",
    "      performance_target: STANDARD\n",
    "\"\"\""
   ]
  },
  {
   "cell_type": "markdown",
   "metadata": {
    "application/vnd.databricks.v1+cell": {
     "cellMetadata": {
      "byteLimit": 2048000,
      "rowLimit": 10000
     },
     "inputWidgets": {},
     "nuid": "9c2cbc27-3db7-4a5c-a06f-939072c01544",
     "showTitle": false,
     "tableResultSettingsMap": {},
     "title": ""
    }
   },
   "source": [
    "#### Alerta Data Quality\n",
    "\n",
    "-Criado o alerta **Brewery_silver_check_quality** utilizado o recurso de ALERTA do databricks  \n",
    "-Verificação diária às 06:30  \n",
    "-Notificação por E-mail em caso de acionamento do alerta\n",
    "\n",
    "Regra:  \n",
    "-Verifica através da view vw_brewery_silver_quality se há regras com 100% dos registros nulos   \n",
    "e/ou   \n",
    "-Se a regra is_location_missing possui ocorrencias > 0\n",
    "\n",
    "![](./utils/Brewery_Alert.png)\n"
   ]
  }
 ],
 "metadata": {
  "application/vnd.databricks.v1+notebook": {
   "computePreferences": null,
   "dashboards": [],
   "environmentMetadata": {
    "base_environment": "",
    "environment_version": "2"
   },
   "inputWidgetPreferences": null,
   "language": "python",
   "notebookMetadata": {
    "pythonIndentUnit": 4
   },
   "notebookName": "Doc_Brewery_Pipeline_and_Quality_Alert",
   "widgets": {}
  },
  "language_info": {
   "name": "python"
  }
 },
 "nbformat": 4,
 "nbformat_minor": 0
}
